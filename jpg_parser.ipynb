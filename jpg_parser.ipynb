{
 "cells": [
  {
   "cell_type": "code",
   "execution_count": 25,
   "metadata": {},
   "outputs": [],
   "source": [
    "class Images:\n",
    "    def __init__(self, src_path):\n",
    "        import os\n",
    "        self.source = src_path\n",
    "        self.dest = os.path.join(src_path, \"dest_folder\")\n",
    "\n",
    "    def __moveToDestFolder(self):\n",
    "        import os\n",
    "        import shutil\n",
    "        import filetype\n",
    "        \n",
    "        while not os.path.isdir(self.dest):\n",
    "            try:\n",
    "                os.makedirs(self.dest); ## it creates the destination folder\n",
    "            except:\n",
    "                print (\"Folder already exist or some error\");\n",
    "                \n",
    "        self.files = os.listdir(self.source)\n",
    "\n",
    "        for f in self.files:\n",
    "            if f.lower().endswith(('.png', '.jpg', '.jpeg', '.tiff', '.bmp', '.gif', '.jfif')):\n",
    "                shutil.copy2(self.source+'/'+f, self.dest)\n",
    "            \n",
    "\n",
    "    def jpeg_parser(self):\n",
    "        self.__moveToDestFolder()\n",
    "        from PIL import Image\n",
    "        import os\n",
    "        \n",
    "        for filename in os.listdir(self.dest):\n",
    "            if not filename.lower().endswith(('jpeg', 'jpg')) and not filename.startswith(\".\"):\n",
    "                self.file = os.path.join(self.dest, filename)\n",
    "                self.im = Image.open(self.file)\n",
    "                self.rgb_im = self.im.convert('RGB')\n",
    "                self.rgb_im.save(self.file.rsplit('.', 1)[0] + \".jpg\")\n",
    "                os.remove(self.file)\n",
    "            \n",
    "   "
   ]
  },
  {
   "cell_type": "code",
   "execution_count": 26,
   "metadata": {},
   "outputs": [],
   "source": [
    "path = '/Users/salahudeentope/Desktop/idaf.ng/Capstone_Project'\n",
    "a = Images(path)\n"
   ]
  },
  {
   "cell_type": "code",
   "execution_count": 27,
   "metadata": {},
   "outputs": [],
   "source": [
    "a.jpeg_parser()\n",
    "# len(os.listdir(path))"
   ]
  },
  {
   "cell_type": "code",
   "execution_count": null,
   "metadata": {},
   "outputs": [],
   "source": []
  }
 ],
 "metadata": {
  "kernelspec": {
   "display_name": "Python 3",
   "language": "python",
   "name": "python3"
  },
  "language_info": {
   "codemirror_mode": {
    "name": "ipython",
    "version": 3
   },
   "file_extension": ".py",
   "mimetype": "text/x-python",
   "name": "python",
   "nbconvert_exporter": "python",
   "pygments_lexer": "ipython3",
   "version": "3.7.3"
  }
 },
 "nbformat": 4,
 "nbformat_minor": 4
}
